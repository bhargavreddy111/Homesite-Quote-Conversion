{
  "nbformat": 4,
  "nbformat_minor": 0,
  "metadata": {
    "colab": {
      "name": "Assignment3_Bhargav.ipynb",
      "provenance": [],
      "collapsed_sections": [],
      "include_colab_link": true
    },
    "kernelspec": {
      "name": "python3",
      "display_name": "Python 3"
    }
  },
  "cells": [
    {
      "cell_type": "markdown",
      "metadata": {
        "id": "view-in-github",
        "colab_type": "text"
      },
      "source": [
        "<a href=\"https://colab.research.google.com/github/bhargavreddy111/Homesite-Quote-Conversion/blob/master/Insurance%20Quote%20Conversion.ipynb\" target=\"_parent\"><img src=\"https://colab.research.google.com/assets/colab-badge.svg\" alt=\"Open In Colab\"/></a>"
      ]
    },
    {
      "cell_type": "code",
      "metadata": {
        "id": "QcwQ5hdHdllC",
        "colab_type": "code",
        "colab": {}
      },
      "source": [
        "!pip install vecstack"
      ],
      "execution_count": 0,
      "outputs": []
    },
    {
      "cell_type": "code",
      "metadata": {
        "id": "eQqGDszCfMbu",
        "colab_type": "code",
        "outputId": "1d39e4be-881c-4597-f056-4d56be2b7791",
        "colab": {
          "base_uri": "https://localhost:8080/",
          "height": 72
        }
      },
      "source": [
        "from vecstack import stacking\n",
        "import pandas as pd\n",
        "import numpy as np\n",
        "from sklearn.metrics import accuracy_score #works\n",
        "from sklearn.model_selection import train_test_split\n",
        "from sklearn.ensemble import RandomForestClassifier\n",
        "from sklearn.tree import DecisionTreeClassifier\n",
        "from sklearn.model_selection import GridSearchCV\n",
        "from sklearn.model_selection import RandomizedSearchCV\n",
        "from sklearn.model_selection import cross_val_score\n",
        "from sklearn.metrics import classification_report, confusion_matrix\n",
        "from sklearn.ensemble import GradientBoostingClassifier\n",
        "from sklearn.neural_network import MLPClassifier\n",
        "#from sklearn.ensemble import RandomForestClassifier\n",
        "from imblearn.over_sampling import SMOTE \n",
        "from sklearn.svm import SVC\n",
        "from collections import Counter #for Smote, \n",
        "\n",
        "import warnings\n",
        "warnings.filterwarnings(\"ignore\")\n"
      ],
      "execution_count": 0,
      "outputs": [
        {
          "output_type": "stream",
          "text": [
            "/usr/local/lib/python3.6/dist-packages/sklearn/externals/six.py:31: DeprecationWarning: The module is deprecated in version 0.21 and will be removed in version 0.23 since we've dropped support for Python 2.7. Please rely on the official version of six (https://pypi.org/project/six/).\n",
            "  \"(https://pypi.org/project/six/).\", DeprecationWarning)\n"
          ],
          "name": "stderr"
        }
      ]
    },
    {
      "cell_type": "code",
      "metadata": {
        "id": "1vyZX66TfUTt",
        "colab_type": "code",
        "outputId": "134f37a0-3ce1-4238-bb82-48933c7933cd",
        "colab": {
          "base_uri": "https://localhost:8080/",
          "height": 453
        }
      },
      "source": [
        "# To upload our datasets from our working directory we need to mount our drive contents to the colab environment. \n",
        "# For the code to do so you can search “mount” in code snippets or use the code given below. \n",
        "# Our entire drive contents are now mounted on colab at the location “/gdrive”.\n",
        "\n",
        "from google.colab import drive\n",
        "drive.mount('/gdrive')\n",
        "#Change current working directory to gdrive\n",
        "%cd /gdrive\n",
        "\n",
        "\n",
        "trainfile = r'/gdrive/My Drive/Assignment3/RevisedHomesiteTrain.csv'\n",
        "train_data = pd.read_csv(trainfile)\n",
        "\n",
        "testfile = r'/gdrive/My Drive/Assignment3/RevisedHomesiteTest.csv'\n",
        "test_data = pd.read_csv(testfile)\n",
        "\n",
        "print(train_data.shape)\n",
        "print(train_data.head()) \n",
        "\n",
        "print(test_data.shape)\n",
        "print(test_data.head()) "
      ],
      "execution_count": 0,
      "outputs": [
        {
          "output_type": "stream",
          "text": [
            "Go to this URL in a browser: https://accounts.google.com/o/oauth2/auth?client_id=947318989803-6bn6qk8qdgf4n4g3pfee6491hc0brc4i.apps.googleusercontent.com&redirect_uri=urn%3Aietf%3Awg%3Aoauth%3A2.0%3Aoob&scope=email%20https%3A%2F%2Fwww.googleapis.com%2Fauth%2Fdocs.test%20https%3A%2F%2Fwww.googleapis.com%2Fauth%2Fdrive%20https%3A%2F%2Fwww.googleapis.com%2Fauth%2Fdrive.photos.readonly%20https%3A%2F%2Fwww.googleapis.com%2Fauth%2Fpeopleapi.readonly&response_type=code\n",
            "\n",
            "Enter your authorization code:\n",
            "··········\n",
            "Mounted at /gdrive\n",
            "/gdrive\n",
            "(65000, 596)\n",
            "   CoverageField11A  ...  QuoteConversion_Flag\n",
            "0                 2  ...                     0\n",
            "1                 5  ...                     0\n",
            "2                 4  ...                     0\n",
            "3                15  ...                     0\n",
            "4                 4  ...                     0\n",
            "\n",
            "[5 rows x 596 columns]\n",
            "(173836, 596)\n",
            "   CoverageField11A  CoverageField11B  ...  GeographicField64_TX  GeographicField64\n",
            "0                13                22  ...                     0                 IL\n",
            "1                 4                 5  ...                     0                 NJ\n",
            "2                 3                 3  ...                     0                 NJ\n",
            "3                 5                 9  ...                     0                 TX\n",
            "4                12                21  ...                     0                 CA\n",
            "\n",
            "[5 rows x 596 columns]\n"
          ],
          "name": "stdout"
        }
      ]
    },
    {
      "cell_type": "code",
      "metadata": {
        "id": "OUBE7LTNfccW",
        "colab_type": "code",
        "outputId": "16c43e4f-ffa8-4c9c-962c-c05717831351",
        "colab": {
          "base_uri": "https://localhost:8080/",
          "height": 191
        }
      },
      "source": [
        "#Copy Train data excluding target\n",
        "trainData_Copy = train_data.iloc[:, :-1].copy()\n",
        "testData_Copy = test_data.iloc[:, :-1].copy()\n",
        "\n",
        "combined_Data = pd.concat([trainData_Copy,testData_Copy], keys=[0,1])\n",
        "\n",
        "#Separate Train data and test data\n",
        "X_train = combined_Data.xs(0)\n",
        "X_test = combined_Data.xs(1)\n",
        "\n",
        "\n",
        "#Select just Target Column\n",
        "y_train = train_data.iloc[:, -1]\n",
        "\n",
        "\n",
        "print(X_train.shape)\n",
        "print(X_test.head()) \n",
        "\n",
        "print(y_train.shape)\n"
      ],
      "execution_count": 0,
      "outputs": [
        {
          "output_type": "stream",
          "text": [
            "(65000, 595)\n",
            "   CoverageField11A  ...  GeographicField64_TX\n",
            "0                13  ...                     0\n",
            "1                 4  ...                     0\n",
            "2                 3  ...                     0\n",
            "3                 5  ...                     0\n",
            "4                12  ...                     0\n",
            "\n",
            "[5 rows x 595 columns]\n",
            "(65000,)\n"
          ],
          "name": "stdout"
        }
      ]
    },
    {
      "cell_type": "code",
      "metadata": {
        "id": "ouSzZTRsfnqO",
        "colab_type": "code",
        "colab": {}
      },
      "source": [
        "#CONSTRUCT DEFAULT DECISION TREE on the imbalanced dataset==================\n",
        "clf = DecisionTreeClassifier()\n",
        "clf.fit(X_train, y_train)\n",
        "\n"
      ],
      "execution_count": 0,
      "outputs": []
    },
    {
      "cell_type": "code",
      "metadata": {
        "id": "feUn7ef5fy4s",
        "colab_type": "code",
        "outputId": "ee5c3409-748e-495c-e80c-323591a42f8e",
        "colab": {
          "base_uri": "https://localhost:8080/",
          "height": 139
        }
      },
      "source": [
        "clf_cv_score = cross_val_score(clf, X_train, y_train, cv=10, scoring=\"roc_auc\")\n",
        "print(\"=== All AUC Scores ===\")\n",
        "print(clf_cv_score)\n",
        "print('\\n')\n",
        "print(\"=== Mean AUC Score ===\")\n",
        "print(\"Mean AUC Score - Decision Tree: \",clf_cv_score.mean())\n"
      ],
      "execution_count": 0,
      "outputs": [
        {
          "output_type": "stream",
          "text": [
            "=== All AUC Scores ===\n",
            "[0.79929705 0.81587119 0.82037138 0.81261193 0.80698814 0.82484684\n",
            " 0.82760855 0.80935996 0.81998486 0.78866754]\n",
            "\n",
            "\n",
            "=== Mean AUC Score ===\n",
            "Mean AUC Score - Decision Tree:  0.8125607463146922\n"
          ],
          "name": "stdout"
        }
      ]
    },
    {
      "cell_type": "code",
      "metadata": {
        "id": "CKwJfOss8Ucf",
        "colab_type": "code",
        "outputId": "0ff62e57-a4d5-48c2-b8f9-0ec108617c35",
        "colab": {
          "base_uri": "https://localhost:8080/",
          "height": 121
        }
      },
      "source": [
        "clf_cv_score = cross_val_score(clf, X_train, y_train, cv=10, scoring=\"balanced_accuracy\")\n",
        "print(clf_cv_score)\n",
        "print('\\n')\n",
        "print(\"=== Mean balanced Accuracy Score ===\")\n",
        "print(\"Mean balanced accuracy Score - Decision Tree: \",clf_cv_score.mean())"
      ],
      "execution_count": 0,
      "outputs": [
        {
          "output_type": "stream",
          "text": [
            "[0.7966409  0.81246981 0.8204948  0.81853081 0.80827783 0.82210648\n",
            " 0.82837596 0.80320492 0.82580772 0.79232789]\n",
            "\n",
            "\n",
            "=== Mean balanced Accuracy Score ===\n",
            "Mean balanced accuracy Score - Decision Tree:  0.8128237106463393\n"
          ],
          "name": "stdout"
        }
      ]
    },
    {
      "cell_type": "code",
      "metadata": {
        "id": "w9pdjPGfh2_T",
        "colab_type": "code",
        "outputId": "d5c73410-da5f-4885-b6e8-68b7b1b65f44",
        "colab": {
          "base_uri": "https://localhost:8080/",
          "height": 104
        }
      },
      "source": [
        "#SMOTE with minority class at 100% of majority class\n",
        "print(\"___________________________________________________________________\\nSMOTE\\n\")\n",
        "print('Original dataset shape %s' % Counter(y_train))\n",
        "sm = SMOTE(sampling_strategy='float', ratio=1)\n",
        "X_res, y_res = sm.fit_resample(X_train, y_train)\n",
        "print('Resampled dataset shape %s' % Counter(y_res))\n"
      ],
      "execution_count": 0,
      "outputs": [
        {
          "output_type": "stream",
          "text": [
            "___________________________________________________________________\n",
            "SMOTE\n",
            "\n",
            "Original dataset shape Counter({0: 52738, 1: 12262})\n",
            "Resampled dataset shape Counter({0: 52738, 1: 52738})\n"
          ],
          "name": "stdout"
        }
      ]
    },
    {
      "cell_type": "code",
      "metadata": {
        "id": "2pKpkoN2j7NZ",
        "colab_type": "code",
        "outputId": "605eeb2a-f7e4-4112-bfd0-3a25fbe2c7cc",
        "colab": {
          "base_uri": "https://localhost:8080/",
          "height": 121
        }
      },
      "source": [
        "#Decision Tree model after SMOTE\n",
        "clfsdt = DecisionTreeClassifier()\n",
        "clfsdt.fit(X_res, y_res)"
      ],
      "execution_count": 0,
      "outputs": [
        {
          "output_type": "execute_result",
          "data": {
            "text/plain": [
              "DecisionTreeClassifier(class_weight=None, criterion='gini', max_depth=None,\n",
              "                       max_features=None, max_leaf_nodes=None,\n",
              "                       min_impurity_decrease=0.0, min_impurity_split=None,\n",
              "                       min_samples_leaf=1, min_samples_split=2,\n",
              "                       min_weight_fraction_leaf=0.0, presort=False,\n",
              "                       random_state=None, splitter='best')"
            ]
          },
          "metadata": {
            "tags": []
          },
          "execution_count": 16
        }
      ]
    },
    {
      "cell_type": "code",
      "metadata": {
        "id": "C_Na7a2ykfXT",
        "colab_type": "code",
        "outputId": "21f61381-87d4-48b4-db30-6eb143135752",
        "colab": {
          "base_uri": "https://localhost:8080/",
          "height": 139
        }
      },
      "source": [
        "clf_cv_score = cross_val_score(clfsdt, X_res, y_res, cv=10, scoring=\"roc_auc\")\n",
        "print(\"=== All AUC Scores ===\")\n",
        "print(clf_cv_score)\n",
        "print('\\n')\n",
        "print(\"=== Mean AUC Score ===\")\n",
        "print(\"Mean AUC Score - Decision Tree: \",clf_cv_score.mean())"
      ],
      "execution_count": 0,
      "outputs": [
        {
          "output_type": "stream",
          "text": [
            "=== All AUC Scores ===\n",
            "[0.38888889 0.673303   0.87144482 0.95240804 0.94823663 0.94416003\n",
            " 0.931551   0.94444444 0.91778874 0.51090461]\n",
            "\n",
            "\n",
            "=== Mean AUC Score ===\n",
            "Mean AUC Score - Decision Tree:  0.8083130203516011\n"
          ],
          "name": "stdout"
        }
      ]
    },
    {
      "cell_type": "code",
      "metadata": {
        "id": "WATpOeQqAwcl",
        "colab_type": "code",
        "outputId": "38ae48d6-ff96-4209-a89a-4a5ec52e7fa4",
        "colab": {
          "base_uri": "https://localhost:8080/",
          "height": 121
        }
      },
      "source": [
        "#run cross-validation, get accuracy score\n",
        "clf_cv_score = cross_val_score(clfsdt, X_res, y_res, cv=10, scoring=\"accuracy\")\n",
        "print(clf_cv_score)\n",
        "print('\\n')\n",
        "print(\"=== Mean Accuracy Score ===\")\n",
        "print(\"Mean accuracy Score - Decision Tree: \",clf_cv_score.mean())"
      ],
      "execution_count": 0,
      "outputs": [
        {
          "output_type": "stream",
          "text": [
            "[0.77777778 0.73331437 0.89827455 0.97193781 0.96852484 0.96786121\n",
            " 0.97250664 0.96530148 0.96643277 0.64915608]\n",
            "\n",
            "\n",
            "=== Mean Accuracy Score ===\n",
            "Mean accuracy Score - Decision Tree:  0.8871087521586813\n"
          ],
          "name": "stdout"
        }
      ]
    },
    {
      "cell_type": "code",
      "metadata": {
        "id": "nV0T0xtsrY30",
        "colab_type": "code",
        "outputId": "16f03b95-ef63-487b-eecd-ec3824fd2b33",
        "colab": {
          "base_uri": "https://localhost:8080/",
          "height": 52
        }
      },
      "source": [
        "#SMOTE with minority class at 50% of majority class\n",
        "sm1 = SMOTE(sampling_strategy='float', ratio=0.5)\n",
        "print('Original dataset shape %s' % Counter(y_train))\n",
        "X_res1, y_res1 = sm1.fit_resample(X_train, y_train)\n",
        "print('Resampled dataset shape %s' % Counter(y_res1))"
      ],
      "execution_count": 0,
      "outputs": [
        {
          "output_type": "stream",
          "text": [
            "Original dataset shape Counter({0: 52738, 1: 12262})\n",
            "Resampled dataset shape Counter({0: 52738, 1: 26369})\n"
          ],
          "name": "stdout"
        }
      ]
    },
    {
      "cell_type": "code",
      "metadata": {
        "id": "08q55bEAr3Kq",
        "colab_type": "code",
        "outputId": "eb4cdbca-aaab-4d3c-c221-27f1501c1484",
        "colab": {
          "base_uri": "https://localhost:8080/",
          "height": 121
        }
      },
      "source": [
        "clfsdt1 = DecisionTreeClassifier()\n",
        "clfsdt1.fit(X_res1, y_res1)"
      ],
      "execution_count": 0,
      "outputs": [
        {
          "output_type": "execute_result",
          "data": {
            "text/plain": [
              "DecisionTreeClassifier(class_weight=None, criterion='gini', max_depth=None,\n",
              "                       max_features=None, max_leaf_nodes=None,\n",
              "                       min_impurity_decrease=0.0, min_impurity_split=None,\n",
              "                       min_samples_leaf=1, min_samples_split=2,\n",
              "                       min_weight_fraction_leaf=0.0, presort=False,\n",
              "                       random_state=None, splitter='best')"
            ]
          },
          "metadata": {
            "tags": []
          },
          "execution_count": 33
        }
      ]
    },
    {
      "cell_type": "code",
      "metadata": {
        "id": "Dal8Np5ZsK7w",
        "colab_type": "code",
        "outputId": "d77b6a26-48de-451c-f3f0-5fdddabf1fc5",
        "colab": {
          "base_uri": "https://localhost:8080/",
          "height": 139
        }
      },
      "source": [
        "clf_cv_score = cross_val_score(clfsdt1, X_res1, y_res1, cv=10, scoring=\"roc_auc\")\n",
        "print(\"=== All AUC Scores ===\")\n",
        "print(clf_cv_score)\n",
        "print('\\n')\n",
        "print(\"=== Mean AUC Score ===\")\n",
        "print(\"Mean AUC Score - Decision Tree: \",clf_cv_score.mean())"
      ],
      "execution_count": 0,
      "outputs": [
        {
          "output_type": "stream",
          "text": [
            "=== All AUC Scores ===\n",
            "[0.48682215 0.65547971 0.70003792 0.67169132 0.80972696 0.95041714\n",
            " 0.94946909 0.9051953  0.93163411 0.50436087]\n",
            "\n",
            "\n",
            "=== Mean AUC Score ===\n",
            "Mean AUC Score - Decision Tree:  0.7564834567673556\n"
          ],
          "name": "stdout"
        }
      ]
    },
    {
      "cell_type": "code",
      "metadata": {
        "id": "nHLiQn-9982I",
        "colab_type": "code",
        "outputId": "276c95b7-0f51-47cb-fd4d-c02b1a7225ef",
        "colab": {
          "base_uri": "https://localhost:8080/",
          "height": 121
        }
      },
      "source": [
        "#run cross-validation, get accuracy score\n",
        "clf_cv_score = cross_val_score(clfsdt1, X_res1, y_res1, cv=10, scoring=\"accuracy\")\n",
        "print(clf_cv_score)\n",
        "print('\\n')\n",
        "print(\"=== Mean Accuracy Score ===\")\n",
        "print(\"Mean accuracy Score - Decision Tree: \",clf_cv_score.mean())"
      ],
      "execution_count": 0,
      "outputs": [
        {
          "output_type": "stream",
          "text": [
            "[0.40487928 0.66565542 0.72190621 0.6935912  0.83364935 0.93667046\n",
            " 0.93376311 0.88041967 0.91150442 0.34302693]\n",
            "\n",
            "\n",
            "=== Mean Accuracy Score ===\n",
            "Mean accuracy Score - Decision Tree:  0.7325066054643846\n"
          ],
          "name": "stdout"
        }
      ]
    },
    {
      "cell_type": "code",
      "metadata": {
        "id": "VxSeClBFsSE_",
        "colab_type": "code",
        "outputId": "9277fe4a-95ea-491c-b43d-2ddfca83d744",
        "colab": {
          "base_uri": "https://localhost:8080/",
          "height": 35
        }
      },
      "source": [
        "# SMOTE with minority class at 75% of majority class\n",
        "sm2 = SMOTE(sampling_strategy='float', ratio=0.75)\n",
        "X_res2, y_res2 = sm2.fit_resample(X_train, y_train)\n",
        "print('Resampled dataset shape %s' % Counter(y_res2))"
      ],
      "execution_count": 0,
      "outputs": [
        {
          "output_type": "stream",
          "text": [
            "Resampled dataset shape Counter({0: 52738, 1: 39553})\n"
          ],
          "name": "stdout"
        }
      ]
    },
    {
      "cell_type": "code",
      "metadata": {
        "id": "XLsL1-gDscY_",
        "colab_type": "code",
        "outputId": "b935a6b8-ee1d-422e-e0c5-aea8e187f89f",
        "colab": {
          "base_uri": "https://localhost:8080/",
          "height": 121
        }
      },
      "source": [
        "clfsdt2 = DecisionTreeClassifier()\n",
        "clfsdt2.fit(X_res2, y_res2)"
      ],
      "execution_count": 0,
      "outputs": [
        {
          "output_type": "execute_result",
          "data": {
            "text/plain": [
              "DecisionTreeClassifier(class_weight=None, criterion='gini', max_depth=None,\n",
              "                       max_features=None, max_leaf_nodes=None,\n",
              "                       min_impurity_decrease=0.0, min_impurity_split=None,\n",
              "                       min_samples_leaf=1, min_samples_split=2,\n",
              "                       min_weight_fraction_leaf=0.0, presort=False,\n",
              "                       random_state=None, splitter='best')"
            ]
          },
          "metadata": {
            "tags": []
          },
          "execution_count": 37
        }
      ]
    },
    {
      "cell_type": "code",
      "metadata": {
        "id": "Ef2llnWLslvU",
        "colab_type": "code",
        "outputId": "256698d9-8c30-4edd-81d4-6e5ec5b60805",
        "colab": {
          "base_uri": "https://localhost:8080/",
          "height": 139
        }
      },
      "source": [
        "clf_cv_score = cross_val_score(clfsdt2, X_res2, y_res2, cv=10, scoring=\"roc_auc\")\n",
        "print(\"=== All AUC Scores ===\")\n",
        "print(clf_cv_score)\n",
        "print('\\n')\n",
        "print(\"=== Mean AUC Score ===\")\n",
        "print(\"Mean AUC Score - Decision Tree: \",clf_cv_score.mean())"
      ],
      "execution_count": 0,
      "outputs": [
        {
          "output_type": "stream",
          "text": [
            "=== All AUC Scores ===\n",
            "[0.44010399 0.5369364  0.71722729 0.92845148 0.95215486 0.95762196\n",
            " 0.95259731 0.93183499 0.91889518 0.51024099]\n",
            "\n",
            "\n",
            "=== Mean AUC Score ===\n",
            "Mean AUC Score - Decision Tree:  0.7846064450216772\n"
          ],
          "name": "stdout"
        }
      ]
    },
    {
      "cell_type": "code",
      "metadata": {
        "id": "FTP6TJA2Ct5p",
        "colab_type": "code",
        "outputId": "dbd05641-a2a1-4a21-aee2-fad2f0ff1e48",
        "colab": {
          "base_uri": "https://localhost:8080/",
          "height": 121
        }
      },
      "source": [
        "#run cross-validation, get accuracy score\n",
        "clf_cv_score = cross_val_score(clfsdt2, X_res2, y_res2, cv=10, scoring=\"accuracy\")\n",
        "print(clf_cv_score)\n",
        "print('\\n')\n",
        "print(\"=== Mean Accuracy Score ===\")\n",
        "print(\"Mean accuracy Score - Decision Tree: \",clf_cv_score.mean())"
      ],
      "execution_count": 0,
      "outputs": [
        {
          "output_type": "stream",
          "text": [
            "[0.40660888 0.5312026  0.74442037 0.92458555 0.94333081 0.95015711\n",
            " 0.94603966 0.92144328 0.9083225  0.44061552]\n",
            "\n",
            "\n",
            "=== Mean Accuracy Score ===\n",
            "Mean accuracy Score - Decision Tree:  0.7716726265701819\n"
          ],
          "name": "stdout"
        }
      ]
    },
    {
      "cell_type": "code",
      "metadata": {
        "id": "7VBeFbimiPd0",
        "colab_type": "code",
        "colab": {}
      },
      "source": [
        "#1st Model:Hyperparameter tuning done for decision tree classifier after SMOTE\n",
        "#RANDOM SEARCH--------------------------------------------\n",
        "print(\"RandomizedSearchCV-Decision tree\")\n",
        "parameters={'min_samples_leaf' : range(15,90,10),'max_depth': range(10,40,5),'criterion':['gini','entropy']}\n",
        "clf_random = RandomizedSearchCV(clfsdt,parameters,n_iter=15,cv=5)\n",
        "clf_random.fit(X_res, y_res)\n",
        "grid_parm=clf_random.best_params_\n",
        "print(grid_parm)"
      ],
      "execution_count": 0,
      "outputs": []
    },
    {
      "cell_type": "code",
      "metadata": {
        "id": "GoiWVv7OiZwB",
        "colab_type": "code",
        "colab": {}
      },
      "source": [
        "#Using the parameters obtained from HyperParameterTuning in the DecisionTreeClassifier \n",
        "clfsdt = DecisionTreeClassifier(**grid_parm)\n",
        "\n",
        "clfsdt.fit(X_res,y_res)\n",
        "clfsdt_predict =pd.DataFrame(clfsdt.predict(X_test), columns=[\"QuoteConversion_Flag\"])\n",
        "\n",
        "clf_cv_score = cross_val_score(clfsdt, X_res, y_res, cv=10, scoring=\"roc_auc\")\n",
        "print(clf_cv_score)\n",
        "print('\\n')"
      ],
      "execution_count": 0,
      "outputs": []
    },
    {
      "cell_type": "code",
      "metadata": {
        "id": "PSCtfr7nipYO",
        "colab_type": "code",
        "colab": {}
      },
      "source": [
        "#Result- Decision tree result after smote and hyper parameter tuning\n",
        "X_Test_id=test_data[\"QuoteNumber\"]\n",
        "pd.concat([X_Test_id,clfsdt_predict],axis=1).to_csv(\"/gdrive/My Drive/Assignment3/Test_results1.csv\", index = None)\n",
        "\n",
        "res=pd.read_csv('/gdrive/My Drive/Assignment3/Test_results1.csv')\n",
        "res.head()"
      ],
      "execution_count": 0,
      "outputs": []
    },
    {
      "cell_type": "code",
      "metadata": {
        "id": "7T729o8H4LRb",
        "colab_type": "code",
        "outputId": "5909acca-71aa-45a8-c64b-49c4735ad298",
        "colab": {
          "base_uri": "https://localhost:8080/",
          "height": 35
        }
      },
      "source": [
        "#2nd Model-Randomforest classifier with hyperparameter tuning after SMOTE\n",
        "rand_parameters={'min_samples_leaf' : range(15,90,10),'max_depth': range(1,20,2),'max_features':[2,3,4],'n_estimators':[10,20,30]}\n",
        "rfc = RandomForestClassifier()\n",
        "\n",
        "#RANDOMIZED SEARCH----------------------------------------\n",
        "rfc_random = RandomizedSearchCV(rfc,rand_parameters,n_iter=10,cv=5)\n",
        "rfc_random.fit(X_res, y_res)\n",
        "grid_parm_rfc=rfc_random.best_params_\n",
        "print(grid_parm_rfc)\n",
        "rfc1= RandomForestClassifier(**grid_parm_rfc)\n",
        "rfc1.fit(X_res,y_res)\n",
        "rfc1_predict = pd.DataFrame(rfc1.predict(X_test),columns=[\"QuoteConversion_Flag\"])\n"
      ],
      "execution_count": 0,
      "outputs": [
        {
          "output_type": "stream",
          "text": [
            "{'n_estimators': 20, 'min_samples_leaf': 25, 'max_features': 4, 'max_depth': 17}\n"
          ],
          "name": "stdout"
        }
      ]
    },
    {
      "cell_type": "code",
      "metadata": {
        "id": "nLai4XVZ6l3P",
        "colab_type": "code",
        "outputId": "2de3c276-2d65-4b22-f308-92e82f7be864",
        "colab": {
          "base_uri": "https://localhost:8080/",
          "height": 202
        }
      },
      "source": [
        "pd.concat([X_Test_id,rfc1_predict],axis=1).to_csv(\"/gdrive/My Drive/Assignment3/Test_results2.csv\", index = None)\n",
        "\n",
        "res=pd.read_csv('/gdrive/My Drive/Assignment3/Test_results2.csv')\n",
        "res.head()"
      ],
      "execution_count": 0,
      "outputs": [
        {
          "output_type": "execute_result",
          "data": {
            "text/html": [
              "<div>\n",
              "<style scoped>\n",
              "    .dataframe tbody tr th:only-of-type {\n",
              "        vertical-align: middle;\n",
              "    }\n",
              "\n",
              "    .dataframe tbody tr th {\n",
              "        vertical-align: top;\n",
              "    }\n",
              "\n",
              "    .dataframe thead th {\n",
              "        text-align: right;\n",
              "    }\n",
              "</style>\n",
              "<table border=\"1\" class=\"dataframe\">\n",
              "  <thead>\n",
              "    <tr style=\"text-align: right;\">\n",
              "      <th></th>\n",
              "      <th>QuoteNumber</th>\n",
              "      <th>QuoteConversion_Flag</th>\n",
              "    </tr>\n",
              "  </thead>\n",
              "  <tbody>\n",
              "    <tr>\n",
              "      <th>0</th>\n",
              "      <td>3</td>\n",
              "      <td>0</td>\n",
              "    </tr>\n",
              "    <tr>\n",
              "      <th>1</th>\n",
              "      <td>5</td>\n",
              "      <td>0</td>\n",
              "    </tr>\n",
              "    <tr>\n",
              "      <th>2</th>\n",
              "      <td>7</td>\n",
              "      <td>0</td>\n",
              "    </tr>\n",
              "    <tr>\n",
              "      <th>3</th>\n",
              "      <td>9</td>\n",
              "      <td>0</td>\n",
              "    </tr>\n",
              "    <tr>\n",
              "      <th>4</th>\n",
              "      <td>10</td>\n",
              "      <td>0</td>\n",
              "    </tr>\n",
              "  </tbody>\n",
              "</table>\n",
              "</div>"
            ],
            "text/plain": [
              "   QuoteNumber  QuoteConversion_Flag\n",
              "0            3                     0\n",
              "1            5                     0\n",
              "2            7                     0\n",
              "3            9                     0\n",
              "4           10                     0"
            ]
          },
          "metadata": {
            "tags": []
          },
          "execution_count": 27
        }
      ]
    },
    {
      "cell_type": "code",
      "metadata": {
        "id": "5lfzys7P68Zh",
        "colab_type": "code",
        "colab": {}
      },
      "source": [
        "#3rd Model-KNN classifier with hyperparameter tuning after SMOTE\n",
        "from sklearn.neighbors import KNeighborsClassifier\n",
        "Knn_parameters={'n_neighbors':[5,10,15], 'leaf_size':[20,30,40]}\n",
        "knnc= KNeighborsClassifier()"
      ],
      "execution_count": 0,
      "outputs": []
    },
    {
      "cell_type": "code",
      "metadata": {
        "id": "LY8iouk8570-",
        "colab_type": "code",
        "outputId": "a2456c33-8e4d-4dcf-f795-44694443e192",
        "colab": {
          "base_uri": "https://localhost:8080/",
          "height": 35
        }
      },
      "source": [
        "#RANDOMIZED SEARCH----------------------------------------\n",
        "knnc_random = RandomizedSearchCV(knnc,Knn_parameters,n_iter=10,cv=5)\n",
        "knnc_random.fit(X_res, y_res)\n",
        "grid_parm_knnc=knnc_random.best_params_\n",
        "print(grid_parm_knnc)\n"
      ],
      "execution_count": 0,
      "outputs": [
        {
          "output_type": "stream",
          "text": [
            "{'n_neighbors': 5, 'leaf_size': 20}\n"
          ],
          "name": "stdout"
        }
      ]
    },
    {
      "cell_type": "code",
      "metadata": {
        "id": "Gpt1YBzNFuzU",
        "colab_type": "code",
        "colab": {}
      },
      "source": [
        "knnc1= KNeighborsClassifier(**grid_parm_knnc)\n",
        "knnc1.fit(X_res,y_res)\n",
        "knnc1_predict = pd.DataFrame(knnc1.predict(X_test),columns=[\"QuoteConversion_Flag\"])"
      ],
      "execution_count": 0,
      "outputs": []
    },
    {
      "cell_type": "code",
      "metadata": {
        "id": "pXmeXhol-z9w",
        "colab_type": "code",
        "outputId": "e37a52d5-4c6f-4004-ca7e-ddedb781b401",
        "colab": {
          "base_uri": "https://localhost:8080/",
          "height": 202
        }
      },
      "source": [
        "pd.concat([X_Test_id,knnc1_predict],axis=1).to_csv(\"/gdrive/My Drive/Assignment3/Test_results3.csv\", index = None)\n",
        "\n",
        "res3=pd.read_csv('/gdrive/My Drive/Assignment3/Test_results3.csv')\n",
        "res3.head()"
      ],
      "execution_count": 0,
      "outputs": [
        {
          "output_type": "execute_result",
          "data": {
            "text/html": [
              "<div>\n",
              "<style scoped>\n",
              "    .dataframe tbody tr th:only-of-type {\n",
              "        vertical-align: middle;\n",
              "    }\n",
              "\n",
              "    .dataframe tbody tr th {\n",
              "        vertical-align: top;\n",
              "    }\n",
              "\n",
              "    .dataframe thead th {\n",
              "        text-align: right;\n",
              "    }\n",
              "</style>\n",
              "<table border=\"1\" class=\"dataframe\">\n",
              "  <thead>\n",
              "    <tr style=\"text-align: right;\">\n",
              "      <th></th>\n",
              "      <th>QuoteNumber</th>\n",
              "      <th>QuoteConversion_Flag</th>\n",
              "    </tr>\n",
              "  </thead>\n",
              "  <tbody>\n",
              "    <tr>\n",
              "      <th>0</th>\n",
              "      <td>3</td>\n",
              "      <td>0</td>\n",
              "    </tr>\n",
              "    <tr>\n",
              "      <th>1</th>\n",
              "      <td>5</td>\n",
              "      <td>0</td>\n",
              "    </tr>\n",
              "    <tr>\n",
              "      <th>2</th>\n",
              "      <td>7</td>\n",
              "      <td>0</td>\n",
              "    </tr>\n",
              "    <tr>\n",
              "      <th>3</th>\n",
              "      <td>9</td>\n",
              "      <td>0</td>\n",
              "    </tr>\n",
              "    <tr>\n",
              "      <th>4</th>\n",
              "      <td>10</td>\n",
              "      <td>1</td>\n",
              "    </tr>\n",
              "  </tbody>\n",
              "</table>\n",
              "</div>"
            ],
            "text/plain": [
              "   QuoteNumber  QuoteConversion_Flag\n",
              "0            3                     0\n",
              "1            5                     0\n",
              "2            7                     0\n",
              "3            9                     0\n",
              "4           10                     1"
            ]
          },
          "metadata": {
            "tags": []
          },
          "execution_count": 42
        }
      ]
    },
    {
      "cell_type": "code",
      "metadata": {
        "id": "MjmTKhjDGEOS",
        "colab_type": "code",
        "outputId": "f116d29b-bc7d-419d-916c-190ecc466da8",
        "colab": {
          "base_uri": "https://localhost:8080/",
          "height": 104
        }
      },
      "source": [
        "#4th Model- MLP classifier after SMOTE\n",
        "mlpc=MLPClassifier(hidden_layer_sizes =(50,10,100),activation='relu',max_iter=200)\n",
        "mlpc.fit(X_res,y_res)\n",
        "mlpc_predict =pd.DataFrame(mlpc.predict(X_test), columns=[\"QuoteConversion_Flag\"])\n",
        "\n",
        "\n",
        "print(\"accuracy Score (training) after hypertuning randomized search for Decision Tree:{0:6f}\".format(clf.score(X_train,y_train)))\n",
        "\n",
        "mlpc_cv_score = cross_val_score(mlpc, X_res, y_res, cv=10, scoring=\"roc_auc\")\n",
        "print(mlpc_cv_score)\n",
        "print('\\n')\n"
      ],
      "execution_count": 0,
      "outputs": [
        {
          "output_type": "stream",
          "text": [
            "accuracy Score (training) after hypertuning randomized search for Decision Tree:1.000000\n",
            "[0.32852233 0.5        0.49905195 0.50085324 0.51965639 0.5\n",
            " 0.5        0.49971559 0.47041532 0.5       ]\n",
            "\n",
            "\n"
          ],
          "name": "stdout"
        }
      ]
    },
    {
      "cell_type": "code",
      "metadata": {
        "id": "jl-nrSCuMFeI",
        "colab_type": "code",
        "outputId": "dcbdd8eb-997a-45d3-f3ea-50b22bcfad08",
        "colab": {
          "base_uri": "https://localhost:8080/",
          "height": 202
        }
      },
      "source": [
        "pd.concat([X_Test_id,mlpc_predict],axis=1).to_csv(\"/gdrive/My Drive/Assignment3/Test_results4.csv\", index = None)\n",
        "\n",
        "res3=pd.read_csv('/gdrive/My Drive/Assignment3/Test_results4.csv')\n",
        "res3.head()"
      ],
      "execution_count": 0,
      "outputs": [
        {
          "output_type": "execute_result",
          "data": {
            "text/html": [
              "<div>\n",
              "<style scoped>\n",
              "    .dataframe tbody tr th:only-of-type {\n",
              "        vertical-align: middle;\n",
              "    }\n",
              "\n",
              "    .dataframe tbody tr th {\n",
              "        vertical-align: top;\n",
              "    }\n",
              "\n",
              "    .dataframe thead th {\n",
              "        text-align: right;\n",
              "    }\n",
              "</style>\n",
              "<table border=\"1\" class=\"dataframe\">\n",
              "  <thead>\n",
              "    <tr style=\"text-align: right;\">\n",
              "      <th></th>\n",
              "      <th>QuoteNumber</th>\n",
              "      <th>QuoteConversion_Flag</th>\n",
              "    </tr>\n",
              "  </thead>\n",
              "  <tbody>\n",
              "    <tr>\n",
              "      <th>0</th>\n",
              "      <td>3</td>\n",
              "      <td>0</td>\n",
              "    </tr>\n",
              "    <tr>\n",
              "      <th>1</th>\n",
              "      <td>5</td>\n",
              "      <td>0</td>\n",
              "    </tr>\n",
              "    <tr>\n",
              "      <th>2</th>\n",
              "      <td>7</td>\n",
              "      <td>0</td>\n",
              "    </tr>\n",
              "    <tr>\n",
              "      <th>3</th>\n",
              "      <td>9</td>\n",
              "      <td>0</td>\n",
              "    </tr>\n",
              "    <tr>\n",
              "      <th>4</th>\n",
              "      <td>10</td>\n",
              "      <td>0</td>\n",
              "    </tr>\n",
              "  </tbody>\n",
              "</table>\n",
              "</div>"
            ],
            "text/plain": [
              "   QuoteNumber  QuoteConversion_Flag\n",
              "0            3                     0\n",
              "1            5                     0\n",
              "2            7                     0\n",
              "3            9                     0\n",
              "4           10                     0"
            ]
          },
          "metadata": {
            "tags": []
          },
          "execution_count": 45
        }
      ]
    },
    {
      "cell_type": "code",
      "metadata": {
        "colab_type": "code",
        "id": "otc7q4TeZVry",
        "colab": {}
      },
      "source": [
        "#5th Model- SVM classifier after SMOTE\n",
        "svmc=SVC(C=1.0, kernel='rbf', degree=3)\n",
        "svmc.fit(X_res,y_res)\n",
        "svmc_predict =pd.DataFrame(svmc.predict(X_test), columns=[\"QuoteConversion_Flag\"])\n",
        "\n",
        "\n",
        "print(\"accuracy Score (training) after hypertuning randomized search for Decision Tree:{0:6f}\".format(clf.score(X_train,y_train)))\n",
        "\n",
        "svmc_cv_score = cross_val_score(svmc, X_res, y_res, cv=10, scoring=\"roc_auc\")\n",
        "print(svmc_cv_score)\n",
        "print('\\n')\n",
        "\n"
      ],
      "execution_count": 0,
      "outputs": []
    },
    {
      "cell_type": "code",
      "metadata": {
        "id": "2Js6423MNX9j",
        "colab_type": "code",
        "colab": {}
      },
      "source": [
        "pd.concat([X_Test_id,svmc_predict],axis=1).to_csv(\"/gdrive/My Drive/Assignment3/Test_results5.csv\", index = None)\n",
        "\n",
        "res3=pd.read_csv('/gdrive/My Drive/Assignment3/Test_results5.csv')\n",
        "res3.head()"
      ],
      "execution_count": 0,
      "outputs": []
    },
    {
      "cell_type": "code",
      "metadata": {
        "id": "7CXo2LHn_DGS",
        "colab_type": "code",
        "colab": {}
      },
      "source": [
        ""
      ],
      "execution_count": 0,
      "outputs": []
    },
    {
      "cell_type": "code",
      "metadata": {
        "id": "nW12HH9qh9rQ",
        "colab_type": "code",
        "outputId": "a819fdca-c2f4-4787-c1ab-826c8525b37f",
        "colab": {
          "base_uri": "https://localhost:8080/",
          "height": 797
        }
      },
      "source": [
        "#STACKING MODELS =====================================================================\n",
        "print(\"___________________________________________________________________________________________\\nEnsemble Methods Predictions using KNN, MLP,RandomForest and Decision Tree Classifier\\n\")\n",
        "\n",
        "models = [ DecisionTreeClassifier(), RandomForestClassifier(), KNeighborsClassifier(), MLPClassifier()  ]\n",
        "      \n",
        "S_Train, S_Test = stacking(models,                   \n",
        "                           X_res, y_res, X_test,   \n",
        "                           regression=False, \n",
        "     \n",
        "                           mode='oof_pred_bag', \n",
        "       \n",
        "                           needs_proba=False,\n",
        "         \n",
        "                           save_dir=None, \n",
        "            \n",
        "                           metric=accuracy_score, \n",
        "    \n",
        "                           n_folds=4, \n",
        "                 \n",
        "                           stratified=True,\n",
        "            \n",
        "                           shuffle=True,  \n",
        "            \n",
        "                           random_state=0,    \n",
        "         \n",
        "                           verbose=2)\n"
      ],
      "execution_count": 0,
      "outputs": [
        {
          "output_type": "stream",
          "text": [
            "___________________________________________________________________________________________\n",
            "Ensemble Methods Predictions using KNN, MLP,RandomForest and Decision Tree Classifier\n",
            "\n",
            "task:         [classification]\n",
            "n_classes:    [2]\n",
            "metric:       [accuracy_score]\n",
            "mode:         [oof_pred_bag]\n",
            "n_models:     [4]\n",
            "\n",
            "model  0:     [DecisionTreeClassifier]\n",
            "    fold  0:  [0.92366325]\n",
            "    fold  1:  [0.92408039]\n",
            "    fold  2:  [0.92331614]\n",
            "    fold  3:  [0.92407464]\n",
            "    ----\n",
            "    MEAN:     [0.92378361] + [0.00031851]\n",
            "    FULL:     [0.92378361]\n",
            "\n",
            "model  1:     [RandomForestClassifier]\n",
            "    fold  0:  [0.93090633]\n",
            "    fold  1:  [0.93333333]\n",
            "    fold  2:  [0.93366960]\n",
            "    fold  3:  [0.93556584]\n",
            "    ----\n",
            "    MEAN:     [0.93336878] + [0.00165699]\n",
            "    FULL:     [0.93336873]\n",
            "\n",
            "model  2:     [KNeighborsClassifier]\n",
            "    fold  0:  [0.72662116]\n",
            "    fold  1:  [0.72810011]\n",
            "    fold  2:  [0.72864836]\n",
            "    fold  3:  [0.72443871]\n",
            "    ----\n",
            "    MEAN:     [0.72695209] + [0.00162956]\n",
            "    FULL:     [0.72695210]\n",
            "\n",
            "model  3:     [MLPClassifier]\n",
            "    fold  0:  [0.86291240]\n",
            "    fold  1:  [0.79825559]\n",
            "    fold  2:  [0.83790959]\n",
            "    fold  3:  [0.84155036]\n",
            "    ----\n",
            "    MEAN:     [0.83515699] + [0.02334806]\n",
            "    FULL:     [0.83515681]\n",
            "\n"
          ],
          "name": "stdout"
        }
      ]
    },
    {
      "cell_type": "code",
      "metadata": {
        "id": "-kGCHGTaiGTb",
        "colab_type": "code",
        "outputId": "293770f7-c73f-40df-e290-176774af357d",
        "colab": {
          "base_uri": "https://localhost:8080/",
          "height": 52
        }
      },
      "source": [
        "# Decision Tree as secondary model in Stacking\n",
        "model = DecisionTreeClassifier()\n",
        "#Hyperparameter tuning done for decision tree classifier\n",
        "#RANDOM SEARCH--------------------------------------------\n",
        "print(\"RandomizedSearchCV-Decision tree\")\n",
        "parameters={'min_samples_leaf' : range(15,90,10),'max_depth': range(10,40,5),'criterion':['gini','entropy']}\n",
        "stack_random = RandomizedSearchCV(model,parameters,n_iter=15,cv=5)\n",
        "stack_random.fit(S_Train, y_res)\n",
        "grid_parm=stack_random.best_params_\n",
        "print(grid_parm)\n",
        "    "
      ],
      "execution_count": 0,
      "outputs": [
        {
          "output_type": "stream",
          "text": [
            "RandomizedSearchCV-Decision tree\n",
            "{'min_samples_leaf': 65, 'max_depth': 25, 'criterion': 'entropy'}\n"
          ],
          "name": "stdout"
        }
      ]
    },
    {
      "cell_type": "code",
      "metadata": {
        "id": "nc1omhPRlrr6",
        "colab_type": "code",
        "colab": {}
      },
      "source": [
        "stack_model = DecisionTreeClassifier(**grid_parm)\n",
        "\n",
        "\n",
        "stack_model.fit(S_Train,y_res)\n",
        "stack_predict=pd.DataFrame(stack_model.predict(S_Test), columns=[\"QuoteConversion_Flag\"])"
      ],
      "execution_count": 0,
      "outputs": []
    },
    {
      "cell_type": "code",
      "metadata": {
        "id": "CKg4i4YTiPqi",
        "colab_type": "code",
        "outputId": "fb67501e-d6de-4af0-b9d5-5f3adf4f4de3",
        "colab": {
          "base_uri": "https://localhost:8080/",
          "height": 202
        }
      },
      "source": [
        "X_Test_id=test_data[\"QuoteNumber\"]\n",
        "pd.concat([X_Test_id,stack_predict],axis=1).to_csv(\"/gdrive/My Drive/Assignment3/Test_results6.csv\", index = None)\n",
        "\n",
        "res4=pd.read_csv('/gdrive/My Drive/Assignment3/Test_results6.csv')\n",
        "res4.head()\n"
      ],
      "execution_count": 0,
      "outputs": [
        {
          "output_type": "execute_result",
          "data": {
            "text/html": [
              "<div>\n",
              "<style scoped>\n",
              "    .dataframe tbody tr th:only-of-type {\n",
              "        vertical-align: middle;\n",
              "    }\n",
              "\n",
              "    .dataframe tbody tr th {\n",
              "        vertical-align: top;\n",
              "    }\n",
              "\n",
              "    .dataframe thead th {\n",
              "        text-align: right;\n",
              "    }\n",
              "</style>\n",
              "<table border=\"1\" class=\"dataframe\">\n",
              "  <thead>\n",
              "    <tr style=\"text-align: right;\">\n",
              "      <th></th>\n",
              "      <th>QuoteNumber</th>\n",
              "      <th>QuoteConversion_Flag</th>\n",
              "    </tr>\n",
              "  </thead>\n",
              "  <tbody>\n",
              "    <tr>\n",
              "      <th>0</th>\n",
              "      <td>3</td>\n",
              "      <td>0</td>\n",
              "    </tr>\n",
              "    <tr>\n",
              "      <th>1</th>\n",
              "      <td>5</td>\n",
              "      <td>0</td>\n",
              "    </tr>\n",
              "    <tr>\n",
              "      <th>2</th>\n",
              "      <td>7</td>\n",
              "      <td>0</td>\n",
              "    </tr>\n",
              "    <tr>\n",
              "      <th>3</th>\n",
              "      <td>9</td>\n",
              "      <td>0</td>\n",
              "    </tr>\n",
              "    <tr>\n",
              "      <th>4</th>\n",
              "      <td>10</td>\n",
              "      <td>0</td>\n",
              "    </tr>\n",
              "  </tbody>\n",
              "</table>\n",
              "</div>"
            ],
            "text/plain": [
              "   QuoteNumber  QuoteConversion_Flag\n",
              "0            3                     0\n",
              "1            5                     0\n",
              "2            7                     0\n",
              "3            9                     0\n",
              "4           10                     0"
            ]
          },
          "metadata": {
            "tags": []
          },
          "execution_count": 21
        }
      ]
    },
    {
      "cell_type": "code",
      "metadata": {
        "id": "Q39c55RUiWq5",
        "colab_type": "code",
        "colab": {}
      },
      "source": [
        ""
      ],
      "execution_count": 0,
      "outputs": []
    }
  ]
}